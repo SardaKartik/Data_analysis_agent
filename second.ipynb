{
 "cells": [
  {
   "cell_type": "code",
   "execution_count": 36,
   "metadata": {},
   "outputs": [],
   "source": [
    "import json\n",
    "from langchain_groq import ChatGroq\n",
    "from langchain.schema import SystemMessage, HumanMessage\n",
    "from langchain.prompts import ChatPromptTemplate\n",
    "import os \n",
    "import re"
   ]
  },
  {
   "cell_type": "code",
   "execution_count": 37,
   "metadata": {},
   "outputs": [],
   "source": [
    "from dotenv import load_dotenv\n",
    "load_dotenv()\n",
    "\n",
    "api_key = os.getenv(\"Groq_API_KEY\")"
   ]
  },
  {
   "cell_type": "code",
   "execution_count": 38,
   "metadata": {},
   "outputs": [],
   "source": [
    "chat_model = ChatGroq(model=\"mixtral-8x7b-32768\", api_key=api_key)"
   ]
  },
  {
   "cell_type": "code",
   "execution_count": 39,
   "metadata": {},
   "outputs": [],
   "source": [
    "def extract_json(response_text):\n",
    "    \"\"\" Extract JSON from AI response using regex \"\"\"\n",
    "    match = re.search(r\"```json\\n(.*?)\\n```\", response_text, re.DOTALL)\n",
    "    if match:\n",
    "        try:\n",
    "            return json.loads(match.group(1))  # Convert extracted JSON string to dictionary\n",
    "        except json.JSONDecodeError:\n",
    "            return {\"error\": \"Invalid JSON format\", \"raw_response\": response_text}\n",
    "    return {\"error\": \"No JSON found in response\", \"raw_response\": response_text}"
   ]
  },
  {
   "cell_type": "code",
   "execution_count": 40,
   "metadata": {},
   "outputs": [],
   "source": [
    "# Define the Chain of Thought (CoT) prompt\n",
    "cot_prompt = ChatPromptTemplate.from_messages([\n",
    "    (\"system\", \"\"\"\n",
    "    You are an experienced data scientist with expertise in solving complex business problems.\n",
    "    Your goal is to guide the client through different approaches to solving their problem.\n",
    "\n",
    "    ### **Instructions:**\n",
    "    Follow these structured steps to analyze and provide a solution:\n",
    "\n",
    "    1. **Understand the Problem** - Analyze the client's question and break it down.\n",
    "    2. **Existing Solutions** - Identify predefined solutions available in the market.\n",
    "    3. **Alternative Approaches** - Explore different ways to solve the problem.\n",
    "    4. **Final Recommendation** - Provide the best solution.\n",
    "\n",
    "    ---\n",
    "\n",
    "    ### **Example Walkthrough**\n",
    "    \n",
    "    #### **Step 1: Understanding the Problem**\n",
    "    **THOUGHT:** The client needs to analyze customer churn using historical data.\n",
    "\n",
    "    #### **Step 2: Checking for Existing Solutions**\n",
    "    **THOUGHT:** Common solutions for churn prediction include logistic regression, decision trees, and neural networks.\n",
    "\n",
    "    #### **Step 3: Exploring Different Approaches**\n",
    "    **THOUGHT:** \n",
    "    - Approach 1: Use a rule-based model with predefined thresholds.\n",
    "    - Approach 2: Train a machine learning model using historical churn data.\n",
    "    - Approach 3: Implement deep learning techniques for better accuracy.\n",
    "\n",
    "    #### **Step 4: Selecting the Best Approach**\n",
    "    **ACTION:** Use `train_ml_model_tool` with `algorithm='Random Forest'` and `data='customer_churn.csv'`\n",
    "\n",
    "    **OBSERVATION:** Model trained with 85% accuracy.\n",
    "\n",
    "    ### **Final Output Format (JSON)**\n",
    "    **ONLY return valid JSON** following this structure. Do not include any other text.\n",
    "\n",
    "    ```json\n",
    "    {{\n",
    "        \"solution\": \"Trained a Random Forest model on customer churn data with 85% accuracy.\",\n",
    "        \"recommendation\": \"Recommend further hyperparameter tuning for improvement.\"\n",
    "    }}\n",
    "    ```\n",
    "\n",
    "    **Do NOT include any text before or after the JSON output.**\"\"\"),\n",
    "    (\"user\", \"{input}\")\n",
    "])"
   ]
  },
  {
   "cell_type": "code",
   "execution_count": 44,
   "metadata": {},
   "outputs": [],
   "source": [
    "def chatbot():\n",
    "    print(\"💬 AI Chatbot is running! Type 'exit' to stop.\")\n",
    "\n",
    "    while True:\n",
    "        user_input = input(\"You: \")\n",
    "        if user_input.lower() == \"exit\":\n",
    "            print(\"👋 Exiting chat. Goodbye!\")\n",
    "            break\n",
    "\n",
    "        # Format messages with the prompt\n",
    "        messages = [\n",
    "            SystemMessage(content=cot_prompt.format(input=user_input)),\n",
    "            HumanMessage(content=user_input)\n",
    "        ]\n",
    "\n",
    "        # Get AI response using LangChain invoke()\n",
    "        response = chat_model.invoke(messages)\n",
    "        output_json = extract_json(response.content)\n",
    "\n",
    "        print(response)\n",
    "        with open(\"chatbot_output.json\", \"w\") as json_file:\n",
    "            json.dump(output_json, json_file, indent=4)\n",
    "\n",
    "        # Print extracted JSON output\n",
    "        print(f\"🤖 AI: {output_json.get('solution', 'Error in response')}\")\n",
    "        print(f\"📌 Recommendation: {output_json.get('recommendation', 'No recommendation available.')}\\n\")\n"
   ]
  },
  {
   "cell_type": "code",
   "execution_count": 45,
   "metadata": {},
   "outputs": [
    {
     "name": "stdout",
     "output_type": "stream",
     "text": [
      "💬 AI Chatbot is running! Type 'exit' to stop.\n",
      "content='**Step 1: Understanding the Problem**\\n\\nThe client wants to create an AI agent, but the specific use case and requirements are not provided.\\n\\n**Step 2: Checking for Existing Solutions**\\n\\nThere are several predefined AI agent solutions available in the market, such as:\\n\\n- Chatbots for customer support and engagement\\n- AI-powered virtual assistants for automating tasks\\n- AI-driven recommendation systems for personalized experiences\\n- AI-based predictive models for decision making\\n\\n**Step 3: Exploring Different Approaches**\\n\\n- Approach 1: Develop a rule-based chatbot using a tool like Dialogflow or Microsoft Bot Framework.\\n- Approach 2: Implement an AI-powered virtual assistant using pre-built services like Amazon Alexa or Google Assistant.\\n- Approach 3: Build a custom AI agent from scratch using machine learning frameworks like TensorFlow or PyTorch.\\n\\n**Step 4: Selecting the Best Approach**\\n\\nTo provide a recommendation, I would need more details about the client\\'s specific use case, technical capabilities, and budget. Here is a generic JSON output:\\n\\n```json\\n{\\n    \"solution\": \"Several options are available for creating an AI agent, such as rule-based chatbots, AI-powered virtual assistants, or custom AI agents.\",\\n    \"recommendation\": \"Please provide more details about the use case, technical capabilities, and budget to recommend the best approach.\"\\n}\\n```' additional_kwargs={} response_metadata={'token_usage': {'completion_tokens': 333, 'prompt_tokens': 511, 'total_tokens': 844, 'completion_time': 0.510913003, 'prompt_time': 0.024962762, 'queue_time': 0.019121674999999998, 'total_time': 0.535875765}, 'model_name': 'mixtral-8x7b-32768', 'system_fingerprint': 'fp_c5f20b5bb1', 'finish_reason': 'stop', 'logprobs': None} id='run-9493310f-4319-497a-ac8f-3e1b02c7cda1-0' usage_metadata={'input_tokens': 511, 'output_tokens': 333, 'total_tokens': 844}\n",
      "🤖 AI: Several options are available for creating an AI agent, such as rule-based chatbots, AI-powered virtual assistants, or custom AI agents.\n",
      "📌 Recommendation: Please provide more details about the use case, technical capabilities, and budget to recommend the best approach.\n",
      "\n",
      "content='### **Understanding the Problem**\\n**THOUGHT:** The client wants to create an AI agent that can compare two websites based on certain parameters.\\n\\n### **Checking for Existing Solutions**\\n**THOUGHT:** Predefined solutions for website comparison include using web analytics tools, A/B testing, and user surveys. However, the client is looking for an AI agent, which suggests a more advanced approach.\\n\\n### **Exploring Different Approaches**\\n**THOUGHT:**\\n- Approach 1: Use Natural Language Processing (NLP) to analyze the text content of both websites and compare their readability, tone, and keyword usage.\\n- Approach 2: Use Computer Vision techniques to analyze the visual content of both websites, comparing color schemes, layout, and image usage.\\n- Approach 3: Combine NLP and Computer Vision techniques to create a comprehensive comparison of both websites, analyzing both text and visual content.\\n\\n### **Selecting the Best Approach**\\n**ACTION:** Implement a combination of NLP and Computer Vision techniques to compare both websites.\\n\\n**OBSERVATION:** This approach will provide a comprehensive comparison, analyzing both the text and visual content of the websites.\\n\\n### **Final Output Format (JSON)**\\n```json\\n{\\n    \"solution\": \"Implemented a combination of Natural Language Processing (NLP) and Computer Vision techniques to compare the text and visual content of both websites.\",\\n    \"recommendation\": \"Recommend further customization to tailor the comparison to the specific needs of the client.\"\\n}\\n```' additional_kwargs={} response_metadata={'token_usage': {'completion_tokens': 348, 'prompt_tokens': 525, 'total_tokens': 873, 'completion_time': 0.546637993, 'prompt_time': 0.048548646, 'queue_time': 0.033763718, 'total_time': 0.595186639}, 'model_name': 'mixtral-8x7b-32768', 'system_fingerprint': 'fp_c5f20b5bb1', 'finish_reason': 'stop', 'logprobs': None} id='run-752f2060-2aec-4366-a1de-a5cabfe93cc2-0' usage_metadata={'input_tokens': 525, 'output_tokens': 348, 'total_tokens': 873}\n",
      "🤖 AI: Implemented a combination of Natural Language Processing (NLP) and Computer Vision techniques to compare the text and visual content of both websites.\n",
      "📌 Recommendation: Recommend further customization to tailor the comparison to the specific needs of the client.\n",
      "\n",
      "👋 Exiting chat. Goodbye!\n"
     ]
    }
   ],
   "source": [
    "chatbot()"
   ]
  },
  {
   "cell_type": "code",
   "execution_count": null,
   "metadata": {},
   "outputs": [],
   "source": []
  }
 ],
 "metadata": {
  "kernelspec": {
   "display_name": "myenv",
   "language": "python",
   "name": "python3"
  },
  "language_info": {
   "codemirror_mode": {
    "name": "ipython",
    "version": 3
   },
   "file_extension": ".py",
   "mimetype": "text/x-python",
   "name": "python",
   "nbconvert_exporter": "python",
   "pygments_lexer": "ipython3",
   "version": "3.12.7"
  }
 },
 "nbformat": 4,
 "nbformat_minor": 2
}
