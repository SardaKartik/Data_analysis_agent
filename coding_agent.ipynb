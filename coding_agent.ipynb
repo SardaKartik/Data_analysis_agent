{
 "cells": [
  {
   "cell_type": "code",
   "execution_count": 2,
   "metadata": {},
   "outputs": [
    {
     "name": "stderr",
     "output_type": "stream",
     "text": [
      "c:\\Users\\karti\\Desktop\\Project\\Data_analyst_agent\\myenv\\Lib\\site-packages\\pydantic\\_internal\\_generate_schema.py:775: UserWarning: Mixing V1 models and V2 models (or constructs, like `TypeAdapter`) is not supported. Please upgrade `CrewAgentExecutor` to V2.\n",
      "  warn(\n",
      "c:\\Users\\karti\\Desktop\\Project\\Data_analyst_agent\\myenv\\Lib\\site-packages\\tqdm\\auto.py:21: TqdmWarning: IProgress not found. Please update jupyter and ipywidgets. See https://ipywidgets.readthedocs.io/en/stable/user_install.html\n",
      "  from .autonotebook import tqdm as notebook_tqdm\n"
     ]
    }
   ],
   "source": [
    "from crewai import Agent, Task, Crew\n",
    "from langchain_google_genai import ChatGoogleGenerativeAI\n",
    "from crewai_tools import SerperDevTool\n",
    "import os\n",
    "import litellm\n"
   ]
  },
  {
   "cell_type": "code",
   "execution_count": 3,
   "metadata": {},
   "outputs": [],
   "source": [
    "# 2. Configure LiteLLM for Gemini DIRECTLY\n",
    "litellm.drop_params = True\n",
    "litellm.set_verbose = True"
   ]
  },
  {
   "cell_type": "code",
   "execution_count": 4,
   "metadata": {},
   "outputs": [
    {
     "data": {
      "text/plain": [
       "True"
      ]
     },
     "execution_count": 4,
     "metadata": {},
     "output_type": "execute_result"
    }
   ],
   "source": [
    "from dotenv import load_dotenv\n",
    "load_dotenv()"
   ]
  },
  {
   "cell_type": "code",
   "execution_count": 5,
   "metadata": {},
   "outputs": [],
   "source": [
    "import os "
   ]
  },
  {
   "cell_type": "code",
   "execution_count": 6,
   "metadata": {},
   "outputs": [],
   "source": [
    "API_KEY = os.getenv(\"Gemini_API_KEY\")"
   ]
  },
  {
   "cell_type": "code",
   "execution_count": 7,
   "metadata": {},
   "outputs": [],
   "source": [
    "os.environ[\"GEMINI_API_KEY\"] = API_KEY\n",
    "os.environ[\"LITELLM_PROVIDER\"] = \"google\"  # Force LiteLLM to use Google"
   ]
  },
  {
   "cell_type": "code",
   "execution_count": 8,
   "metadata": {},
   "outputs": [],
   "source": [
    "# 2. Configure Gemini PROPERLY\n",
    "llm = ChatGoogleGenerativeAI(\n",
    "    model=\"gemini-1.5-pro-latest\",\n",
    "    temperature=0,\n",
    "    #max_output_tokens=2048,\n",
    "    google_api_key= os.getenv(\"Gemini_API_KEY\")  # Explicit key assignment\n",
    ")\n"
   ]
  },
  {
   "cell_type": "code",
   "execution_count": 9,
   "metadata": {},
   "outputs": [],
   "source": [
    "# Create an agent with code execution enabled\n",
    "coding_agent = Agent(\n",
    "    role=\"Python Developer & Data Analyst\",\n",
    "    goal=\"Write, analyze, and debug Python code, including Data Structures & Algorithms (DSA) problems.\",\n",
    "    backstory=\"You are a highly skilled Python developer and data analyst with expertise in solving algorithmic problems, analyzing datasets, and implementing optimized solutions.\",\n",
    "    llm=llm,\n",
    "    allow_code_execution=True\n",
    ")\n"
   ]
  },
  {
   "cell_type": "code",
   "execution_count": 10,
   "metadata": {},
   "outputs": [],
   "source": [
    "# Define a flexible task that allows the agent to write Python code for any problem\n",
    "coding_task = Task(\n",
    "    description=\"Write Python code to solve a given problem. The problem could be a Data Structures & Algorithms (DSA) challenge, data analysis task, or any general programming requirement.\",\n",
    "    agent=coding_agent,\n",
    "    expected_output=\"A well-structured Python script solving the given problem efficiently.\",\n",
    ")\n"
   ]
  },
  {
   "cell_type": "code",
   "execution_count": 11,
   "metadata": {},
   "outputs": [],
   "source": [
    "\n",
    "# Create a crew and add the task\n",
    "analysis_crew = Crew(\n",
    "    agents=[coding_agent],\n",
    "    tasks=[coding_task]\n",
    ")\n"
   ]
  },
  {
   "cell_type": "code",
   "execution_count": 12,
   "metadata": {},
   "outputs": [
    {
     "name": "stdout",
     "output_type": "stream",
     "text": [
      "```python\n",
      "import sys\n",
      "import time\n",
      "import math\n",
      "from collections import deque, defaultdict, Counter\n",
      "\n",
      "# ----- Function Definitions -----\n",
      "\n",
      "def solve_problem(input_data):\n",
      "    \"\"\"\n",
      "    This function solves the specified problem.\n",
      "    Adapt this function to address the given challenge.\n",
      "\n",
      "    Args:\n",
      "        input_data: The input data for the problem. \n",
      "                     The type of this parameter should be adjusted \n",
      "                     based on the problem requirements (e.g., list, string, etc.).\n",
      "\n",
      "    Returns:\n",
      "        The solution to the problem. The return type should be adjusted\n",
      "        based on the problem requirements.  Returns None if no solution is found.\n",
      "    \"\"\"\n",
      "    try:\n",
      "        # ---  Problem-Specific Logic Starts Here ---\n",
      "        # Example: Finding the maximum element in a list\n",
      "        # if isinstance(input_data, list) and input_data:\n",
      "        #     return max(input_data)\n",
      "\n",
      "\n",
      "        # --- Add your problem-solving logic here ---\n",
      "\n",
      "        # Example: Processing a string\n",
      "        # if isinstance(input_data, str):\n",
      "        #     return input_data.upper()\n",
      "\n",
      "\n",
      "        # ---  Problem-Specific Logic Ends Here ---\n",
      "\n",
      "    except (TypeError, ValueError, IndexError) as e:\n",
      "        print(f\"Error processing input: {e}\", file=sys.stderr)\n",
      "        return None\n",
      "\n",
      "\n",
      "# ----- Main Execution Block (Example Usage) -----\n",
      "if __name__ == \"__main__\":\n",
      "    start_time = time.time()\n",
      "\n",
      "    # Example usage (uncomment and adapt as needed):\n",
      "    # test_input = [1, 5, 2, 8, 3]  # Example input for finding the maximum\n",
      "    # test_input = \"hello world\" # Example input for string processing\n",
      "    # result = solve_problem(test_input)\n",
      "\n",
      "    # if result is not None:\n",
      "    #     print(f\"Result: {result}\")\n",
      "\n",
      "    end_time = time.time()\n",
      "    execution_time = end_time - start_time\n",
      "    # print(f\"Execution time: {execution_time:.4f} seconds\")\n",
      "\n",
      "\n",
      "```\n"
     ]
    }
   ],
   "source": [
    "# Execute the crew with a dictionary input\n",
    "result = analysis_crew.kickoff({\"problem\": \"add two number.\"})\n",
    "\n",
    "print(result)"
   ]
  },
  {
   "cell_type": "code",
   "execution_count": null,
   "metadata": {},
   "outputs": [],
   "source": []
  }
 ],
 "metadata": {
  "kernelspec": {
   "display_name": "myenv",
   "language": "python",
   "name": "python3"
  },
  "language_info": {
   "codemirror_mode": {
    "name": "ipython",
    "version": 3
   },
   "file_extension": ".py",
   "mimetype": "text/x-python",
   "name": "python",
   "nbconvert_exporter": "python",
   "pygments_lexer": "ipython3",
   "version": "3.12.7"
  }
 },
 "nbformat": 4,
 "nbformat_minor": 2
}
