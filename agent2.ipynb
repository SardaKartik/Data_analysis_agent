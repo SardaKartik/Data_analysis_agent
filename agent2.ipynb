{
 "cells": [
  {
   "cell_type": "code",
   "execution_count": 1,
   "metadata": {},
   "outputs": [],
   "source": [
    "from langchain.agents import AgentExecutor, create_react_agent,initialize_agent,AgentType\n",
    "from langchain_google_genai import ChatGoogleGenerativeAI\n",
    "from langchain.prompts import PromptTemplate\n",
    "import os"
   ]
  },
  {
   "cell_type": "code",
   "execution_count": 2,
   "metadata": {},
   "outputs": [],
   "source": [
    "from langchain_community.utilities import GoogleSerperAPIWrapper\n",
    "from langchain.tools import Tool\n",
    "import os\n",
    "import logging\n",
    "from IPython.display import display, Markdown"
   ]
  },
  {
   "cell_type": "code",
   "execution_count": 3,
   "metadata": {},
   "outputs": [],
   "source": [
    "# Set API Key\n",
    "os.environ[\"GOOGLE_API_KEY\"] = os.getenv(\"Gemini_API_KEY\")"
   ]
  },
  {
   "cell_type": "code",
   "execution_count": 4,
   "metadata": {},
   "outputs": [],
   "source": [
    "google_api_key = os.getenv(\"GOOGLE_API_KEY\")"
   ]
  },
  {
   "cell_type": "code",
   "execution_count": 5,
   "metadata": {},
   "outputs": [],
   "source": [
    "serper_api_key = os.getenv(\"SERPER_API_KEY\")"
   ]
  },
  {
   "cell_type": "code",
   "execution_count": 6,
   "metadata": {},
   "outputs": [],
   "source": [
    "os.environ[\"SERPER_API_KEY\"] = os.getenv(\"SERPER_API_KEY\")"
   ]
  },
  {
   "cell_type": "code",
   "execution_count": 7,
   "metadata": {},
   "outputs": [],
   "source": [
    "\n",
    "# Initialize Gemini\n",
    "llm = ChatGoogleGenerativeAI(\n",
    "    model=\"gemini-1.5-pro-latest\",\n",
    "    temperature=0.7,\n",
    "    convert_system_message_to_human=True\n",
    ")"
   ]
  },
  {
   "cell_type": "code",
   "execution_count": 8,
   "metadata": {},
   "outputs": [],
   "source": [
    "search = GoogleSerperAPIWrapper()"
   ]
  },
  {
   "cell_type": "code",
   "execution_count": 9,
   "metadata": {},
   "outputs": [],
   "source": [
    "tools = [\n",
    "    Tool(\n",
    "        name=\"Intermediate Answer\",\n",
    "        func=search.run,\n",
    "        description=\"useful for when you need to ask with search\"\n",
    "    )\n",
    "]"
   ]
  },
  {
   "cell_type": "code",
   "execution_count": 10,
   "metadata": {},
   "outputs": [],
   "source": [
    "# Custom Medical Prompt Template\n",
    "MEDICAL_PROMPT = PromptTemplate(\n",
    "    input_variables=[\"input\", \"my_website\", \"competitors\", \"agent_scratchpad\"],\n",
    "    template=\"\"\"You are a senior radiology AI analyst. Analyze and compare:\n",
    "\n",
    "**Target Platform**: {my_website}\n",
    "**Competitors**: {competitors}\n",
    "\n",
    "Focus on:\n",
    "1. FDA/CE certification status\n",
    "2. DICOM/PACS integration capabilities\n",
    "3. Supported imaging modalities (CT, MRI, X-ray)\n",
    "4. Clinical validation documentation\n",
    "5. Radiologist workflow optimization\n",
    "\n",
    "Provide a detailed technical analysis in markdown format with comparison tables.\n",
    "\n",
    "Use the following format:\n",
    "\n",
    "Question: the input question you must answer\n",
    "Thought: you should always think about what to do\n",
    "Action: the action to take, should be one of [{tool_names}]\n",
    "Action Input: the input to the action\n",
    "Observation: the result of the action\n",
    "... (this Thought/Action/Action Input/Observation can repeat N times)\n",
    "Thought: I now know the final answer\n",
    "Final Answer: the final answer to the original input question\n",
    "\n",
    "{agent_scratchpad}\"\"\"\n",
    ")"
   ]
  },
  {
   "cell_type": "code",
   "execution_count": 11,
   "metadata": {},
   "outputs": [],
   "source": [
    "\n",
    "\n",
    "# Create agent with empty tools configuration\n",
    "agent = create_react_agent(\n",
    "    llm=llm,\n",
    "    tools= tools ,  # Empty tools list\n",
    "    prompt=MEDICAL_PROMPT.partial(\n",
    "        tools=\"\",  # Empty string for tools\n",
    "        tool_names=\"\"  # Empty string for tool names\n",
    "    )\n",
    ")\n"
   ]
  },
  {
   "cell_type": "code",
   "execution_count": 12,
   "metadata": {},
   "outputs": [],
   "source": [
    "# Create executor\n",
    "medical_agent = AgentExecutor(\n",
    "    agent=agent,\n",
    "    tools=[],  # Empty tools list\n",
    "    verbose=True,\n",
    "    handle_parsing_errors=True,\n",
    "    max_iterations=3\n",
    ")\n",
    "\n"
   ]
  },
  {
   "cell_type": "code",
   "execution_count": 13,
   "metadata": {},
   "outputs": [
    {
     "name": "stdout",
     "output_type": "stream",
     "text": [
      "\n",
      "\n",
      "\u001b[1m> Entering new AgentExecutor chain...\u001b[0m\n"
     ]
    },
    {
     "name": "stderr",
     "output_type": "stream",
     "text": [
      "c:\\Users\\karti\\Desktop\\Project\\Data_analyst_agent\\myenv\\Lib\\site-packages\\langchain_google_genai\\chat_models.py:362: UserWarning: Convert_system_message_to_human will be deprecated!\n",
      "  warnings.warn(\"Convert_system_message_to_human will be deprecated!\")\n"
     ]
    },
    {
     "name": "stdout",
     "output_type": "stream",
     "text": [
      "\u001b[32;1m\u001b[1;3mQuestion: Analyze and compare mlhealth360.com and radai.com, focusing on FDA/CE certification status, DICOM/PACS integration capabilities, supported imaging modalities, clinical validation documentation, and radiologist workflow optimization.\n",
      "\n",
      "Thought: I need to research both platforms to gather information on their features and capabilities.  Since direct access to internal documentation is likely limited, I'll rely on publicly available information like websites, publications, and news releases.  I will organize the information into a comparison table.\n",
      "\n",
      "Action: [Intermediate Answer]\n",
      "Action Input: Research mlhealth360.com and radai.com focusing on the five key areas.\u001b[0m[Intermediate Answer] is not a valid tool, try one of []."
     ]
    },
    {
     "name": "stderr",
     "output_type": "stream",
     "text": [
      "c:\\Users\\karti\\Desktop\\Project\\Data_analyst_agent\\myenv\\Lib\\site-packages\\langchain_google_genai\\chat_models.py:362: UserWarning: Convert_system_message_to_human will be deprecated!\n",
      "  warnings.warn(\"Convert_system_message_to_human will be deprecated!\")\n"
     ]
    },
    {
     "name": "stdout",
     "output_type": "stream",
     "text": [
      "\u001b[32;1m\u001b[1;3mQuestion: Analyze and compare mlhealth360.com and radai.com, focusing on FDA/CE certification status, DICOM/PACS integration capabilities, supported imaging modalities, clinical validation documentation, and radiologist workflow optimization.\n",
      "\n",
      "Thought: I need to research both platforms to gather information on their features and capabilities. Since direct access to internal documentation is likely limited, I'll rely on publicly available information like websites, publications, and news releases. I will organize the information into a comparison table.\n",
      "\n",
      "Action: [Search]\n",
      "Action Input: Search for information on mlhealth360.com and radai.com related to FDA/CE certifications, DICOM/PACS integration, supported modalities, clinical validation, and workflow optimization.\u001b[0m[Search] is not a valid tool, try one of []."
     ]
    },
    {
     "name": "stderr",
     "output_type": "stream",
     "text": [
      "c:\\Users\\karti\\Desktop\\Project\\Data_analyst_agent\\myenv\\Lib\\site-packages\\langchain_google_genai\\chat_models.py:362: UserWarning: Convert_system_message_to_human will be deprecated!\n",
      "  warnings.warn(\"Convert_system_message_to_human will be deprecated!\")\n"
     ]
    },
    {
     "name": "stdout",
     "output_type": "stream",
     "text": [
      "\u001b[32;1m\u001b[1;3mQuestion: Analyze and compare mlhealth360.com and radai.com, focusing on FDA/CE certification status, DICOM/PACS integration capabilities, supported imaging modalities, clinical validation documentation, and radiologist workflow optimization.\n",
      "\n",
      "Thought: I need to research both platforms to gather information on their features and capabilities. Since direct access to internal documentation is likely limited, I'll rely on publicly available information like websites, publications, and news releases. I will organize the information into a comparison table.  I'll also acknowledge the limitations of relying solely on publicly available data.\n",
      "\n",
      "Action: [Research]\n",
      "Action Input:  mlhealth360.com and radai.com focusing on FDA/CE certifications, DICOM/PACS integration, supported modalities, clinical validation, and workflow optimization.\u001b[0m[Research] is not a valid tool, try one of [].\u001b[32;1m\u001b[1;3m\u001b[0m\n",
      "\n",
      "\u001b[1m> Finished chain.\u001b[0m\n",
      "Agent stopped due to iteration limit or time limit.\n"
     ]
    }
   ],
   "source": [
    "# Run analysis\n",
    "try:\n",
    "    result = medical_agent.invoke({\n",
    "        \"input\": \"Medical imaging platform analysis\",\n",
    "        \"my_website\": \"mlhealth360.com\",\n",
    "        \"competitors\": [\"radai.com\"]\n",
    "    })\n",
    "    print(result['output'])\n",
    "except Exception as e:\n",
    "    print(f\"Analysis Error: {str(e)}\")"
   ]
  },
  {
   "cell_type": "code",
   "execution_count": 14,
   "metadata": {},
   "outputs": [
    {
     "name": "stdout",
     "output_type": "stream",
     "text": [
      "<class 'dict'>\n"
     ]
    }
   ],
   "source": [
    "print(type(result))  # Check if it's a dict, list, etc."
   ]
  },
  {
   "cell_type": "code",
   "execution_count": 15,
   "metadata": {},
   "outputs": [
    {
     "data": {
      "text/plain": [
       "{'input': 'Medical imaging platform analysis',\n",
       " 'my_website': 'mlhealth360.com',\n",
       " 'competitors': ['radai.com'],\n",
       " 'output': 'Agent stopped due to iteration limit or time limit.'}"
      ]
     },
     "metadata": {},
     "output_type": "display_data"
    }
   ],
   "source": [
    "from IPython.display import display\n",
    "display(result)"
   ]
  },
  {
   "cell_type": "code",
   "execution_count": null,
   "metadata": {},
   "outputs": [],
   "source": []
  }
 ],
 "metadata": {
  "kernelspec": {
   "display_name": "myenv",
   "language": "python",
   "name": "python3"
  },
  "language_info": {
   "codemirror_mode": {
    "name": "ipython",
    "version": 3
   },
   "file_extension": ".py",
   "mimetype": "text/x-python",
   "name": "python",
   "nbconvert_exporter": "python",
   "pygments_lexer": "ipython3",
   "version": "3.12.7"
  }
 },
 "nbformat": 4,
 "nbformat_minor": 2
}
